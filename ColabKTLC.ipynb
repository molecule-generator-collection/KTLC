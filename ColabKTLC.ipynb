{
  "cells": [
    {
      "cell_type": "markdown",
      "source": [
        "<img src=\"https://raw.githubusercontent.com/molecule-generator-collection/\n",
        "DFT_param_opt/main/.github/logo.png\" height=\"200\" align=\"right\" style=\"height:240px\">\n",
        "\n",
        "## ColabKTLC V1.0: estimation of the optimal range-separated paramter\n",
        "\n",
        "\n",
        "This notebook predicts the optimal value of the range-separated parameter μ for a given molecule (in SMILES format), based on the KTLC framework. For more details see the following paper. \n",
        "\n",
        "[K. Terayama, Y. Osaki, T. Fujita, R. Tamura, M. Naito, K. Tsuda, T. Matsui,  M. Sumita,\n",
        " Koopmans’ Theorem-Compliant Long-range Corrected\n",
        "(KTLC) Density Functional Mediated by Black-box\n",
        "Optimization and Machine Learning for Organic Molecules,\n",
        "*arXiv*, 2022](https://) \n",
        "\n",
        "This notebook is version 1.0, created on 6 June 2023."
      ],
      "metadata": {
        "id": "Mitv6Xv53Jb5"
      }
    },
    {
      "cell_type": "code",
      "source": [
        "#@title Please enter a molecule in SMILES format, then hit Runtime -> Run all\n",
        "\n",
        "molecule = \"C1=CC2=CC3=CC=C(N3)C=C4C=CC(=N4)C=C5C=CC(=N5)C=C1N2\"#@param {type:\"string\"}\n",
        "\n"
      ],
      "metadata": {
        "id": "zX3yTQG6w7Sb",
        "cellView": "form"
      },
      "execution_count": null,
      "outputs": []
    },
    {
      "cell_type": "code",
      "source": [
        "#@title Setup and prediction\n",
        "\n",
        "%%capture\n",
        "\n",
        "!pip install lightgbm\n",
        "!pip install rdkit\n",
        "!pip install mordred\n",
        "\n",
        "import numpy as np\n",
        "import pickle\n",
        "import shutil\n",
        "\n",
        "import matplotlib.pyplot as plt\n",
        "import seaborn as sns\n",
        "\n",
        "import pandas as pd\n",
        "from rdkit import rdBase, Chem, DataStructs\n",
        "print(rdBase.rdkitVersion) \n",
        "from rdkit.Avalon import pyAvalonTools\n",
        "from rdkit.Chem import AllChem, Draw, rdMolDescriptors\n",
        "from rdkit.Chem.Draw import rdMolDraw2D\n",
        "from rdkit.Chem import Descriptors\n",
        "from rdkit.Chem.Fingerprints import FingerprintMols\n",
        "from rdkit.Chem.AtomPairs import Pairs, Torsions\n",
        "from rdkit.ML.Descriptors import MoleculeDescriptors\n",
        "\n",
        "\n",
        "from mordred import Calculator, descriptors\n",
        "import lightgbm as lgbm\n",
        "\n",
        "\n",
        "def smi2descrptor(smi_list, mordred_index_list):\n",
        "  \n",
        "  mol_list = [Chem.MolFromSmiles(v) for v in smi_list]\n",
        "  Morgan_fp_list = np.array([AllChem.GetMorganFingerprintAsBitVect(mol, 2, 2048) for mol in mol_list])\n",
        "  MACCS_fp_list = np.array([AllChem.GetMACCSKeysFingerprint(mol) for mol in mol_list])\n",
        "  #topological fingerprintののbit数を合わせるための準備準備\n",
        "  params = FingerprintMols.FingerprinterDetails()\n",
        "  params.tgtDensity = 0\n",
        "  Topol_fp_list = np.array([Chem.Fingerprints.FingerprintMols.FingerprintMol(mol, **params.__dict__) for mol in mol_list])\n",
        "\n",
        "  #RDkit descriptors (208)\n",
        "  descriptor_names = [descriptor_name[0] for descriptor_name in Descriptors._descList]\n",
        "  descriptor_calculation = MoleculeDescriptors.MolecularDescriptorCalculator(descriptor_names)\n",
        "  RDkit_desc_list = np.array([descriptor_calculation.CalcDescriptors(mol_temp) for mol_temp in mol_list])\n",
        "\n",
        "  # mordredの記述子計算\n",
        "  df = pd.DataFrame({'MOL':mol_list})\n",
        "  # 記述子を計算\n",
        "  calc = Calculator(descriptors, ignore_3D=True)\n",
        "  df_descriptors_mordred = calc.pandas(df['MOL'])\n",
        "\n",
        "  df_descriptors = df_descriptors_mordred.astype(str)\n",
        "  masks = df_descriptors.apply(lambda d: d.str.contains('[a-zA-Z]' ,na=False))\n",
        "  df_descriptors = df_descriptors[~masks]\n",
        "  df_descriptors = df_descriptors.astype(float)\n",
        "\n",
        "  df_descriptors = df_descriptors.values[:, mordred_index_list]\n",
        "\n",
        "  All_Desc_list = np.concatenate([Morgan_fp_list, Topol_fp_list, MACCS_fp_list, RDkit_desc_list, df_descriptors], axis = 1)\n",
        "\n",
        "  return All_Desc_list\n",
        "\n",
        "\n",
        "\n",
        "def smiles2mu(smi_list):\n",
        "  desc = smi2descrptor(smi_list, selected_index_mask)\n",
        "\n",
        "  predicted_mu_list = []\n",
        "  for fold in range(5):\n",
        "    loaded_model = pickle.load(open(f'{model_path}/model_{p_model}_{feature}_{fold}.pkl', 'rb'))\n",
        "    predicted_mu = loaded_model.predict(desc)\n",
        "    predicted_mu_list.append(predicted_mu)\n",
        " \n",
        "  return np.mean(predicted_mu_list, axis = 0), np.std(predicted_mu_list, axis = 0)\n",
        "\n",
        "\n",
        "#####  Setup  #####\n",
        "#Load model\n",
        "directory = '/content/DFT_param_opt'\n",
        "try:\n",
        "    shutil.rmtree(directory)\n",
        "except FileNotFoundError:\n",
        "    pass\n",
        "\n",
        "!git clone https://github.com/molecule-generator-collection/DFT_param_opt.git\n",
        "\n",
        "model_path = 'DFT_param_opt/model'\n",
        "selected_index_mask = pickle.load(open(f'{model_path}/mordred_index_mask.pkl', 'rb'))\n",
        "\n",
        "\n",
        "#Prediction of the input molecule\n",
        "p_model = 'lightGBM' \n",
        "feature = 'All_Desc' \n",
        "\n",
        "predicted_mu_list, predicted_mu_std_list = smiles2mu([molecule])"
      ],
      "metadata": {
        "cellView": "form",
        "id": "Z3zBg2XL6t9z"
      },
      "execution_count": null,
      "outputs": []
    },
    {
      "cell_type": "code",
      "source": [
        "#@title Predicted optimal $\\mu$ value with its standard deviation:\n",
        "\n",
        "print('Predicted '+'\\N{greek small letter mu}'+':', round(predicted_mu_list[0], 5))\n",
        "print('Predicted '+'\\N{greek small letter mu}'+ '(std):', round(predicted_mu_std_list[0], 5))"
      ],
      "metadata": {
        "id": "AEF6zFVRy-RH",
        "cellView": "form"
      },
      "execution_count": null,
      "outputs": []
    }
  ],
  "metadata": {
    "colab": {
      "provenance": [],
      "machine_shape": "hm"
    },
    "kernelspec": {
      "display_name": "Python 3",
      "name": "python3"
    },
    "language_info": {
      "codemirror_mode": {
        "name": "ipython",
        "version": 3
      },
      "file_extension": ".py",
      "mimetype": "text/x-python",
      "name": "python",
      "nbconvert_exporter": "python",
      "pygments_lexer": "ipython3",
      "version": "3.9.5"
    }
  },
  "nbformat": 4,
  "nbformat_minor": 0
}