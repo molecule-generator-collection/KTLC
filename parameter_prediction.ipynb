{
  "cells": [
    {
      "cell_type": "code",
      "source": [
        "#@title Setup\n",
        "\n",
        "!git clone https://github.com/molecule-generator-collection/DFT_param_opt.git\n",
        "\n",
        "model_path = 'DFT_param_opt/model'\n",
        "selected_index_mask = pickle.load(open(f'{model_path}/mordred_index_mask.pkl', 'rb'))\n",
        "\n",
        "p_model = 'lightGBM' \n",
        "feature = 'All_Desc' \n",
        "\n",
        "!pip install lightgbm\n",
        "!pip install rdkit\n",
        "!pip install mordred\n",
        "\n",
        "import numpy as np\n",
        "import pickle\n",
        "\n",
        "import matplotlib.pyplot as plt\n",
        "import seaborn as sns\n",
        "\n",
        "import pandas as pd\n",
        "from rdkit import rdBase, Chem, DataStructs\n",
        "print(rdBase.rdkitVersion) \n",
        "from rdkit.Avalon import pyAvalonTools\n",
        "from rdkit.Chem import AllChem, Draw, rdMolDescriptors\n",
        "from rdkit.Chem.Draw import rdMolDraw2D\n",
        "from rdkit.Chem import Descriptors\n",
        "from rdkit.Chem.Fingerprints import FingerprintMols\n",
        "from rdkit.Chem.AtomPairs import Pairs, Torsions\n",
        "from rdkit.ML.Descriptors import MoleculeDescriptors\n",
        "\n",
        "\n",
        "from mordred import Calculator, descriptors\n",
        "import lightgbm as lgbm\n",
        "\n",
        "def smi2descrptor(smi_list, mordred_index_list):\n",
        "  \n",
        "  mol_list = [Chem.MolFromSmiles(v) for v in smi_list]\n",
        "  Morgan_fp_list = np.array([AllChem.GetMorganFingerprintAsBitVect(mol, 2, 2048) for mol in mol_list])\n",
        "  MACCS_fp_list = np.array([AllChem.GetMACCSKeysFingerprint(mol) for mol in mol_list])\n",
        "  #topological fingerprintののbit数を合わせるための準備準備\n",
        "  params = FingerprintMols.FingerprinterDetails()\n",
        "  params.tgtDensity = 0\n",
        "  Topol_fp_list = np.array([Chem.Fingerprints.FingerprintMols.FingerprintMol(mol, **params.__dict__) for mol in mol_list])\n",
        "\n",
        "  #RDkit descriptors (208)\n",
        "  descriptor_names = [descriptor_name[0] for descriptor_name in Descriptors._descList]\n",
        "  descriptor_calculation = MoleculeDescriptors.MolecularDescriptorCalculator(descriptor_names)\n",
        "  RDkit_desc_list = np.array([descriptor_calculation.CalcDescriptors(mol_temp) for mol_temp in mol_list])\n",
        "\n",
        "  # mordredの記述子計算\n",
        "  df = pd.DataFrame({'MOL':mol_list})\n",
        "  # 記述子を計算\n",
        "  calc = Calculator(descriptors, ignore_3D=True)\n",
        "  df_descriptors_mordred = calc.pandas(df['MOL'])\n",
        "\n",
        "  df_descriptors = df_descriptors_mordred.astype(str)\n",
        "  masks = df_descriptors.apply(lambda d: d.str.contains('[a-zA-Z]' ,na=False))\n",
        "  df_descriptors = df_descriptors[~masks]\n",
        "  df_descriptors = df_descriptors.astype(float)\n",
        "\n",
        "  df_descriptors = df_descriptors.values[:, mordred_index_list]\n",
        "\n",
        "  All_Desc_list = np.concatenate([Morgan_fp_list, Topol_fp_list, MACCS_fp_list, RDkit_desc_list, df_descriptors], axis = 1)\n",
        "\n",
        "  return All_Desc_list\n",
        "\n",
        "\n",
        "\n",
        "def smiles2mu(smi_list):\n",
        "  desc = smi2descrptor(smi_list, selected_index_mask)\n",
        "\n",
        "  predicted_mu_list = []\n",
        "  for fold in range(5):\n",
        "    loaded_model = pickle.load(open(f'{model_path}/model_{p_model}_{feature}_{fold}.pkl', 'rb'))\n",
        "    predicted_mu = loaded_model.predict(desc)\n",
        "    predicted_mu_list.append(predicted_mu)\n",
        " \n",
        "  return np.mean(predicted_mu_list, axis = 0), np.std(predicted_mu_list, axis = 0)"
      ],
      "metadata": {
        "cellView": "form",
        "id": "zX3yTQG6w7Sb"
      },
      "execution_count": null,
      "outputs": []
    },
    {
      "cell_type": "markdown",
      "source": [
        "#Prediction\n"
      ],
      "metadata": {
        "id": "yNNQvWI1zwB6"
      }
    },
    {
      "cell_type": "markdown",
      "source": [
        "Please prepare a SMILES list for predicting their optimal μ values."
      ],
      "metadata": {
        "id": "nQ2oWv3F4ckc"
      }
    },
    {
      "cell_type": "code",
      "source": [
        "smi_list = ['CC', 'c1ccccc1']"
      ],
      "metadata": {
        "id": "jCk6mwZcy233"
      },
      "execution_count": null,
      "outputs": []
    },
    {
      "cell_type": "markdown",
      "source": [
        "Optimal μ and its S.D. are calculated by the smiles2mu funtion as follows. "
      ],
      "metadata": {
        "id": "63JNv6vR3u9M"
      }
    },
    {
      "cell_type": "code",
      "source": [
        "predicted_mu_list, predicted_mu_std_list = smiles2mu(smi_list)\n",
        "\n",
        "print('Predicted mu list', predicted_mu_list)\n",
        "print('Predicted mu (std) list', predicted_mu_std_list)"
      ],
      "metadata": {
        "colab": {
          "base_uri": "https://localhost:8080/"
        },
        "id": "AEF6zFVRy-RH",
        "outputId": "f7c82ac1-ad1c-4018-e389-6d4bac0bdb0b"
      },
      "execution_count": null,
      "outputs": [
        {
          "output_type": "stream",
          "name": "stderr",
          "text": [
            "100%|██████████| 2/2 [00:00<00:00,  2.03it/s]\n"
          ]
        },
        {
          "output_type": "stream",
          "name": "stdout",
          "text": [
            "Predicted mu list [0.32931206 0.31471153]\n",
            "Predicted mu (std) list [0.00597792 0.00986421]\n"
          ]
        }
      ]
    }
  ],
  "metadata": {
    "accelerator": "GPU",
    "colab": {
      "provenance": []
    },
    "gpuClass": "standard",
    "kernelspec": {
      "display_name": "Python 3 (ipykernel)",
      "language": "python",
      "name": "python3"
    },
    "language_info": {
      "codemirror_mode": {
        "name": "ipython",
        "version": 3
      },
      "file_extension": ".py",
      "mimetype": "text/x-python",
      "name": "python",
      "nbconvert_exporter": "python",
      "pygments_lexer": "ipython3",
      "version": "3.9.5"
    }
  },
  "nbformat": 4,
  "nbformat_minor": 0
}